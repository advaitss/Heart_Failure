{
  "nbformat": 4,
  "nbformat_minor": 0,
  "metadata": {
    "colab": {
      "provenance": []
    },
    "kernelspec": {
      "name": "python3",
      "display_name": "Python 3"
    },
    "language_info": {
      "name": "python"
    }
  },
  "cells": [
    {
      "cell_type": "code",
      "execution_count": 21,
      "metadata": {
        "id": "GgUfiaXktVvS"
      },
      "outputs": [],
      "source": [
        "# importing necessary libraries\n",
        "import pandas as pd\n",
        "import numpy as np\n",
        "import matplotlib.pyplot as plt\n",
        "import seaborn as sns\n",
        "from sklearn.preprocessing import MinMaxScaler\n",
        "from sklearn.model_selection import train_test_split\n",
        "from sklearn.model_selection import GridSearchCV\n",
        "from sklearn.metrics import classification_report, confusion_matrix, accuracy_score\n",
        "import plotly.figure_factory as ff\n",
        "from sklearn.preprocessing import StandardScaler"
      ]
    },
    {
      "cell_type": "code",
      "source": [
        "# loading the dataset\n",
        "dataset = pd.read_csv('/content/heart_failure_clinical_records_dataset.csv')\n",
        "dataset.head()"
      ],
      "metadata": {
        "id": "qAd0SZvtD0YY"
      },
      "execution_count": null,
      "outputs": []
    },
    {
      "cell_type": "code",
      "source": [
        "# Checking for any null values or missing values in the dataset\n",
        "dataset.isnull().sum()"
      ],
      "metadata": {
        "id": "xUFvMMX-EYun"
      },
      "execution_count": null,
      "outputs": []
    },
    {
      "cell_type": "code",
      "source": [
        "# Checking what are the different possible values for the dependent variable y\n",
        "dataset['DEATH_EVENT'].unique()"
      ],
      "metadata": {
        "id": "v1xCl_9CERhY"
      },
      "execution_count": null,
      "outputs": []
    },
    {
      "cell_type": "code",
      "source": [
        "### splitting the dataset into dependent and independent features\n",
        "\n",
        "# X = independent features = storing all features excluding the last one i.e DEATH_EVENT\n",
        "X = dataset.iloc[:,:-1]\n",
        "X"
      ],
      "metadata": {
        "id": "sO3TdsPoFfyK"
      },
      "execution_count": null,
      "outputs": []
    },
    {
      "cell_type": "code",
      "source": [
        "# y =  storing only the last feature --> DEATH_EVENT\n",
        "y = dataset.iloc[:,-1]\n",
        "y"
      ],
      "metadata": {
        "id": "x8dEodnIF-1E"
      },
      "execution_count": null,
      "outputs": []
    },
    {
      "cell_type": "code",
      "source": [
        "# EDA\n",
        "# sns.pairplot(dataset , hue = 'DEATH_EVENT')"
      ],
      "metadata": {
        "id": "i9x-jGNipLja"
      },
      "execution_count": null,
      "outputs": []
    },
    {
      "cell_type": "markdown",
      "source": [
        "**VISUALIZATION**"
      ],
      "metadata": {
        "id": "lfd7pEQXGa9N"
      }
    },
    {
      "cell_type": "code",
      "source": [
        "\n",
        "numerical_cols = ['age', 'creatinine_phosphokinase', 'ejection_fraction', 'platelets', 'serum_creatinine', 'serum_sodium']\n",
        "plt.figure(figsize=(15, 10))\n",
        "\n",
        "# Density plot for each continuous feature\n",
        "for i, col in enumerate(numerical_cols, 1):\n",
        "    plt.subplot(2, 3, i)\n",
        "    sns.kdeplot(dataset[col], shade=True, color=\"blue\", bw_adjust=0.5)\n",
        "    plt.title(f'Density Plot of {col}')\n",
        "    plt.xlabel(col)\n",
        "    plt.ylabel('Density')\n",
        "\n",
        "plt.tight_layout()\n",
        "plt.show()\n"
      ],
      "metadata": {
        "id": "PaxUrF1c8EuJ"
      },
      "execution_count": null,
      "outputs": []
    },
    {
      "cell_type": "code",
      "source": [
        "features = ['age','ejection_fraction']\n",
        "\n",
        "for feature in features:\n",
        "\n",
        "    surv = dataset[dataset[\"DEATH_EVENT\"] == 0][feature]\n",
        "    not_surv = dataset[dataset[\"DEATH_EVENT\"] == 1][feature]\n",
        "\n",
        "\n",
        "    hist_data = [surv, not_surv]\n",
        "    group_labels = ['Survived', 'Not Survived']\n",
        "\n",
        "\n",
        "    fig = ff.create_distplot(hist_data, group_labels, bin_size=0.5)\n",
        "\n",
        "\n",
        "    fig.update_layout(\n",
        "        title_text=f\"Distribution of {feature} based on Survival Status\",\n",
        "        xaxis_title=feature,\n",
        "        yaxis_title=\"Density\",\n",
        "        template='plotly_white'\n",
        "    )\n",
        "\n",
        "\n",
        "    fig.show()"
      ],
      "metadata": {
        "id": "5u-LPef98mV7"
      },
      "execution_count": null,
      "outputs": []
    },
    {
      "cell_type": "code",
      "source": [
        "dataset.hist(figsize=(15, 12), bins=20 , color = 'green')\n",
        "plt.suptitle('Feature Distributions')\n",
        "plt.show()"
      ],
      "metadata": {
        "id": "_Nk4ijBA8mUM"
      },
      "execution_count": null,
      "outputs": []
    },
    {
      "cell_type": "code",
      "source": [
        "subset_features = ['age', 'ejection_fraction', 'serum_creatinine', 'serum_sodium', 'time', 'DEATH_EVENT']\n",
        "\n",
        "sns.pairplot(dataset[subset_features], hue='DEATH_EVENT', diag_kind='kde', palette='coolwarm')\n",
        "plt.suptitle('Pairwise Relationships (colored by DEATH_EVENT)', y=1.02)\n",
        "plt.show()"
      ],
      "metadata": {
        "id": "R7xbN1JA8mRg"
      },
      "execution_count": null,
      "outputs": []
    },
    {
      "cell_type": "code",
      "source": [
        "plt.figure(figsize=(15, 10))\n",
        "for i, col in enumerate(subset_features[:-1], 1):  # Exclude the target itself\n",
        "    plt.subplot(2, 3, i)\n",
        "    sns.boxplot(x='DEATH_EVENT', y=col, data=dataset, palette='coolwarm')\n",
        "    plt.title(f'{col} by DEATH_EVENT')\n",
        "\n",
        "plt.tight_layout()\n",
        "plt.show()"
      ],
      "metadata": {
        "id": "eT8OeVFA8mPC"
      },
      "execution_count": null,
      "outputs": []
    },
    {
      "cell_type": "code",
      "source": [
        "corr_matrix = dataset.corr()\n",
        "\n",
        "plt.figure(figsize=(12, 8))\n",
        "sns.heatmap(corr_matrix, annot=True, cmap='coolwarm', center=0, linewidths=1, fmt=\".2f\")\n",
        "plt.title('Correlation Heatmap')\n",
        "plt.show()\n"
      ],
      "metadata": {
        "id": "WBJnqinF8mM8"
      },
      "execution_count": null,
      "outputs": []
    },
    {
      "cell_type": "code",
      "source": [
        "correlation_target = dataset.corr()['DEATH_EVENT'].drop('DEATH_EVENT')\n",
        "print(\"Correlation of features with DEATH_EVENT:\")\n",
        "print(correlation_target)\n",
        "\n",
        "plt.figure(figsize=(10, 6))\n",
        "correlation_target.plot(kind='bar', color='blue')\n",
        "plt.title('Correlation of Features with DEATH_EVENT')\n",
        "plt.xlabel('Features')\n",
        "plt.ylabel('Correlation Coefficient')\n",
        "plt.axhline(0, color='gray', linewidth=0.8, ls='--')\n",
        "plt.show()"
      ],
      "metadata": {
        "id": "Vywfyg5T8mKO"
      },
      "execution_count": null,
      "outputs": []
    },
    {
      "cell_type": "code",
      "source": [
        "plt.figure(figsize=(8, 6))\n",
        "sns.countplot(x='DEATH_EVENT', data=dataset, palette='coolwarm')\n",
        "plt.title('Count of DEATH_EVENT (0 = Survived, 1 = Deceased)')\n",
        "plt.xlabel('DEATH_EVENT')\n",
        "plt.ylabel('Count')\n",
        "plt.xticks(ticks=[0, 1], labels=['Survived', 'Deceased'])\n",
        "plt.show()"
      ],
      "metadata": {
        "id": "TnN5amO28mHy"
      },
      "execution_count": null,
      "outputs": []
    },
    {
      "cell_type": "code",
      "source": [
        "!pip install lifelines"
      ],
      "metadata": {
        "id": "48nNJtMH8mDY"
      },
      "execution_count": null,
      "outputs": []
    },
    {
      "cell_type": "code",
      "source": [
        "from lifelines import KaplanMeierFitter\n",
        "\n",
        "kmf = KaplanMeierFitter()\n",
        "kmf.fit(dataset['time'], event_observed=dataset['DEATH_EVENT'])\n",
        "kmf.plot_survival_function()\n",
        "plt.title('Kaplan-Meier Survival Curve')\n",
        "plt.xlabel('Time')\n",
        "plt.ylabel('Survival Probability')\n",
        "plt.show()"
      ],
      "metadata": {
        "id": "V043ma0H8mA2"
      },
      "execution_count": null,
      "outputs": []
    },
    {
      "cell_type": "markdown",
      "source": [
        "**NORMALIZATION**"
      ],
      "metadata": {
        "id": "uvIu0Rz5G5fL"
      }
    },
    {
      "cell_type": "code",
      "source": [
        "# normalization\n",
        "from sklearn.preprocessing import MinMaxScaler\n",
        "\n",
        "# Data Normalization for numerical features\n",
        "scaler = MinMaxScaler()\n",
        "\n",
        "# Apply MinMaxScaler to numerical columns\n",
        "dataset[numerical_cols] = scaler.fit_transform(dataset[numerical_cols])\n",
        "print(\"Data after normalization:\")\n",
        "print(dataset.head())"
      ],
      "metadata": {
        "id": "FQOr9Nj58-zq"
      },
      "execution_count": null,
      "outputs": []
    },
    {
      "cell_type": "markdown",
      "source": [
        "***USING LOGISTIC REGRESSION***"
      ],
      "metadata": {
        "id": "ECLzkWbfHNDp"
      }
    },
    {
      "cell_type": "code",
      "source": [
        "# //// USING LOGISTIC REGRESSION ////\n",
        "from sklearn.linear_model import LogisticRegression\n",
        "classifier  = LogisticRegression()"
      ],
      "metadata": {
        "id": "aipws1wcG5Te"
      },
      "execution_count": 42,
      "outputs": []
    },
    {
      "cell_type": "code",
      "source": [
        "#  test_size = 0.33 ---> using 33% of the data for testing and the remaing 67% for training\n",
        "#  random_state = 42 ---> we can use any number, but generally 42 is used. It controls the randomness to ensure the results are the same every time we run the code.\n",
        "\n",
        "X_train, X_test, y_train, y_test = train_test_split(X, y, test_size=0.33, random_state=42)\n"
      ],
      "metadata": {
        "id": "XHV1h6YZISPp"
      },
      "execution_count": 8,
      "outputs": []
    },
    {
      "cell_type": "code",
      "source": [
        "# GridSearch = algorithm that finds the best model by trying every possible combination of hyperparameters\n",
        "from sklearn.model_selection import GridSearchCV\n",
        "parameters = {'penalty' : ['l1','l2','elasticnet'], 'C' : [1,2,3,4,5,6,10,20,30,40,50], 'max_iter':[100,200,300,400,500]}"
      ],
      "metadata": {
        "id": "u3Bet01PaNPr"
      },
      "execution_count": 10,
      "outputs": []
    },
    {
      "cell_type": "code",
      "source": [
        "classifier_Regressor = GridSearchCV(classifier,param_grid = parameters,scoring='accuracy',cv = 5 )"
      ],
      "metadata": {
        "id": "yZIHqQJcWHhv"
      },
      "execution_count": 11,
      "outputs": []
    },
    {
      "cell_type": "code",
      "source": [
        "classifier_Regressor.fit(X_train,y_train)"
      ],
      "metadata": {
        "id": "DmvHStMYJ9PJ"
      },
      "execution_count": null,
      "outputs": []
    },
    {
      "cell_type": "code",
      "source": [
        "print(classifier_Regressor.best_params_)"
      ],
      "metadata": {
        "id": "IrccdJkqQgkc",
        "colab": {
          "base_uri": "https://localhost:8080/"
        },
        "outputId": "a584b367-7a83-4a0f-8043-b03cf025c37c"
      },
      "execution_count": 13,
      "outputs": [
        {
          "output_type": "stream",
          "name": "stdout",
          "text": [
            "{'C': 10, 'max_iter': 200, 'penalty': 'l2'}\n"
          ]
        }
      ]
    },
    {
      "cell_type": "code",
      "source": [
        "print(classifier_Regressor.best_score_)"
      ],
      "metadata": {
        "id": "rZ1YVVrsLck3"
      },
      "execution_count": null,
      "outputs": []
    },
    {
      "cell_type": "code",
      "source": [
        "# prediction\n",
        "y_pred = classifier_Regressor.predict(X_test)\n",
        "y_pred"
      ],
      "metadata": {
        "id": "vScvjZOLLlwI"
      },
      "execution_count": null,
      "outputs": []
    },
    {
      "cell_type": "code",
      "source": [
        "# accuracy\n",
        "from sklearn.metrics import accuracy_score,classification_report"
      ],
      "metadata": {
        "id": "vwj915tEL-_a"
      },
      "execution_count": 16,
      "outputs": []
    },
    {
      "cell_type": "code",
      "source": [
        "score = accuracy_score(y_pred, y_test)\n",
        "print(score)"
      ],
      "metadata": {
        "id": "tWylBqIrMQg0"
      },
      "execution_count": null,
      "outputs": []
    },
    {
      "cell_type": "code",
      "source": [
        "print(classification_report(y_test,y_pred))"
      ],
      "metadata": {
        "id": "cvGc6tZPMcCF"
      },
      "execution_count": null,
      "outputs": []
    },
    {
      "cell_type": "code",
      "source": [
        "from sklearn.metrics import ConfusionMatrixDisplay, confusion_matrix\n",
        "cm = confusion_matrix(y_test, y_pred)\n",
        "cm",
        "TN, FP, FN, TP = cm.ravel()",
        "specificity = TN / (TN + FP)",
        "print("\nSpecificity : ")",
        "print(specificity)",
      ],
      "metadata": {
        "id": "_Oqt25bkPyi5"
      },
      "execution_count": null,
      "outputs": []
    },
    {
      "cell_type": "code",
      "source": [
        "#  visualization\n",
        "# plot the confusion matrix using seaborn library\n",
        "sns.heatmap(cm, vmin=None, vmax=None, cmap=\"crest\", center=True , annot=True, fmt='.2g')"
      ],
      "metadata": {
        "id": "oHWKUxACSkgH"
      },
      "execution_count": null,
      "outputs": []
    },
    {
      "cell_type": "markdown",
      "source": [
        "*USING SUPPORT VECTOR MACHINE*"
      ],
      "metadata": {
        "id": "xymGwypzHxS4"
      }
    },
    {
      "cell_type": "code",
      "source": [
        "# svm\n",
        "from sklearn.svm import SVC\n",
        "\n",
        "svm_model = SVC(random_state=42)\n",
        "svm_model.fit(X_train, y_train)"
      ],
      "metadata": {
        "id": "XfZ1YANm9FNj"
      },
      "execution_count": null,
      "outputs": []
    },
    {
      "cell_type": "code",
      "source": [
        "param_grid = {\n",
        "    'C': [1, 10, 100],\n",
        "    'kernel': ['linear', 'rbf']\n",
        "}\n",
        "\n",
        "grid_search = GridSearchCV(SVC(random_state=42), param_grid, scoring='accuracy', cv=5)\n",
        "grid_search.fit(X_train, y_train)\n",
        "\n",
        "print(\"Best parameters found: \", grid_search.best_params_)"
      ],
      "metadata": {
        "id": "mrgOuSn-9Kfw"
      },
      "execution_count": null,
      "outputs": []
    },
    {
      "cell_type": "code",
      "source": [
        "# Create a new SVM classifier with the best parameters\n",
        "svm_best_model = SVC(\n",
        "    C=1.0,\n",
        "    kernel='linear',\n",
        "    random_state=42\n",
        ")"
      ],
      "metadata": {
        "id": "kPVMe_cr9MFg"
      },
      "execution_count": 38,
      "outputs": []
    },
    {
      "cell_type": "code",
      "source": [
        "# Fit the new model to the training data\n",
        "svm_best_model.fit(X_train, y_train)"
      ],
      "metadata": {
        "id": "L93pK-ki9OEC"
      },
      "execution_count": null,
      "outputs": []
    },
    {
      "cell_type": "code",
      "source": [
        "# Fit the new model to the training data\n",
        "svm_best_model.fit(X_train, y_train)"
      ],
      "metadata": {
        "id": "roP7we1Z9Pi_"
      },
      "execution_count": null,
      "outputs": []
    },
    {
      "cell_type": "code",
      "source": [
        "y_pred_best = svm_best_model.predict(X_test)\n",
        "\n",
        "print(\"Confusion Matrix:\")\n",
        "print(confusion_matrix(y_test, y_pred_best))\n",
        "print(\"\\nClassification Report:\")\n",
        "print(classification_report(y_test, y_pred_best))\n",
        "print(f\"Accuracy: {accuracy_score(y_test, y_pred_best):.2f}\")\n",
        "\n",
        "TN, FP, FN, TP = cm.ravel()\n",
        "specificity = TN / (TN + FP)\n",
        "print(specificity)\n",
          
        "# visualization\n",
        "\n",
        "plt.figure(figsize=(8, 6))\n",
        "sns.heatmap(confusion_matrix(y_test, y_pred_best), annot=True, fmt='d', cmap='Blues',\n",
        "            xticklabels=['Survived', 'Deceased'], yticklabels=['Survived', 'Deceased'])\n",
        "plt.title('Confusion Matrix (Optimized SVM)')\n",
        "plt.xlabel('Predicted')\n",
        "plt.ylabel('Actual')\n",
        "plt.show()"
      ],
      "metadata": {
        "id": "qDDC9mzc9RiL"
      },
      "execution_count": null,
      "outputs": []
    },
    {
      "cell_type": "markdown",
      "source": [
        "*USING DECISION TREE*"
      ],
      "metadata": {
        "id": "5Ju5rMCVIEW2"
      }
    },
    {
      "cell_type": "code",
      "source": [
        "#Importing the Decision tree classifier from the sklearn library.\n",
        "from sklearn.tree import DecisionTreeClassifier\n",
        "clf = DecisionTreeClassifier()\n"
      ],
      "metadata": {
        "id": "upr1wZO99UJo"
      },
      "execution_count": 44,
      "outputs": []
    },
    {
      "cell_type": "code",
      "source": [
        "#Training the decision tree classifier.\n",
        "clf.fit(X_train,y_train)"
      ],
      "metadata": {
        "id": "JimF6TjhKBSp"
      },
      "execution_count": null,
      "outputs": []
    },
    {
      "cell_type": "code",
      "source": [
        "#Predicting labels on the test set.\n",
        "y_pred = clf.predict(X_test)"
      ],
      "metadata": {
        "id": "DuYoeHCXKFrL"
      },
      "execution_count": 47,
      "outputs": []
    },
    {
      "cell_type": "code",
      "source": [
        "#max depth and minSample split prevents overfitting\n",
        "\n",
        "model1 =DecisionTreeClassifier(min_samples_split=10)\n",
        "model1.fit(X_train,y_train)\n",
        "from sklearn.metrics import accuracy_score\n",
        "accuracy_score(y_test, y_pred)"
      ],
      "metadata": {
        "id": "NC0OcrFYKQ7F"
      },
      "execution_count": null,
      "outputs": []
    },
    {
      "cell_type": "code",
      "source": [
        "from graphviz import Source\n",
        "from sklearn import tree\n",
        "\n",
        "feature_names = dataset.columns.tolist()\n",
        "feature_names.remove('DEATH_EVENT')"
      ],
      "metadata": {
        "id": "Im2C2tC2KaHe"
      },
      "execution_count": 53,
      "outputs": []
    },
    {
      "cell_type": "code",
      "source": [
        "dot_data = tree.export_graphviz(model1, feature_names=feature_names, filled=True,\n",
        "                                class_names=['0', '1'], out_file=None)\n",
        "graph = Source(dot_data)\n",
        "graph.render(\"First_tree\", view=True)"
      ],
      "metadata": {
        "id": "jQXNQn1pKkQ6"
      },
      "execution_count": null,
      "outputs": []
    },
    {
      "cell_type": "code",
      "source": [
        "# evaluating the model\n",
        "plt.figure(figsize=(20,10))\n",
        "tree.plot_tree(model1, feature_names=X.columns, class_names=['0', '1'], filled=True)  # Use 'model1' and correct class names\n",
        "plt.title(\"Decision Tree Visualization\")\n",
        "plt.show()"
      ],
      "metadata": {
        "id": "uoBOGql4KnvD"
      },
      "execution_count": null,
      "outputs": []
    },
    {
      "cell_type": "markdown",
      "source": [
        "ROC curve"
      ],
      "metadata": {
        "id": "ePtRqvFOTLEi"
      }
    },
    {
      "cell_type": "code",
      "source": [
        "from sklearn.metrics import roc_curve, roc_auc_score\n",
        "\n",
        "# Probability predictions\n",
        "y_pred_proba = classifier_Regressor.predict_proba(X_test)[:, 1]\n",
        "\n",
        "# ROC curve\n",
        "fpr, tpr, thresholds = roc_curve(y_test, y_pred_proba)\n",
        "\n",
        "# Plot ROC curve\n",
        "plt.plot(fpr, tpr, label=\"Logistic Regression (AUC = {:.2f})\".format(roc_auc_score(y_test, y_pred_proba)))\n",
        "\n",
        "# Diagonal line for random guess\n",
        "plt.plot([0, 1], [0, 1], 'k--')\n",
        "\n",
        "plt.xlabel(\"False Positive Rate\")\n",
        "plt.ylabel(\"True Positive Rate\")\n",
        "plt.title(\"ROC Curve\")\n",
        "plt.legend()\n",
        "plt.show()\n"
      ],
      "metadata": {
        "id": "A_D8WD8DRDDF"
      },
      "execution_count": null,
      "outputs": []
    },
    {
      "cell_type": "markdown",
      "source": [],
      "metadata": {
        "id": "NYCVsfndTOSq"
      }
    }
  ]
}
